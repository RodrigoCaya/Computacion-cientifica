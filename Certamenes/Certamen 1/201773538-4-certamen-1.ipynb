{
 "cells": [
  {
   "cell_type": "markdown",
   "id": "c63284d6",
   "metadata": {},
   "source": [
    "# Pregunta 1"
   ]
  },
  {
   "cell_type": "markdown",
   "id": "e87f66ee",
   "metadata": {},
   "source": [
    "Utilizando:\n",
    "\\begin{align*}\n",
    "XA_1 - A_2X = B_2 - B_1\n",
    "\\end{align*}\n",
    "\n",
    "Lo descomponemos como:\n",
    "\n",
    "\\begin{align*}\n",
    "Cx = B\n",
    "\\end{align*}\n",
    "\n",
    "Reemplazando obtenemos:\n",
    "\n",
    "\\begin{align*}\n",
    "\\begin{bmatrix}\n",
    "-x_{1}a_{21}-x_{3}a_{22} & -x_{1}a_{23}-x_{3}a_{24} \\\\\n",
    "-x_{2}a_{21}-x_{4}a_{22} & -x_{2}a_{23}-x_{4}a_{24} \\\\\n",
    "\\end{bmatrix}= \\begin{bmatrix}\n",
    "b_{21} - b_{11} & b_{23}-b_{13}\\\\\n",
    "b_{22} - b_{12} & b_{24} - b_{14}\\\\\n",
    "\\end{bmatrix}\n",
    "\\end{align*}\n",
    "\n",
    "Transformándolo como muestra el ejercicio obtenemos:\n",
    "\n",
    "\\begin{align*}\n",
    "\\begin{bmatrix}\n",
    "a_{11}-a_{21} & -a_{22} & a_{13} & 0\\\\\n",
    "a_{12} & 0 & a_{14}-a_{21} & -a_{22}\\\\\n",
    "-a_{23} & a_{11}-a_{24} & 0 & a_{13}\\\\\n",
    "0 & a_{12} & -a_{23} & a_{14}-a_{24}\\\\\n",
    "\\end{bmatrix} \\cdot \\begin{bmatrix}\n",
    "x_1\\\\\n",
    "x_3\\\\\n",
    "x_2\\\\\n",
    "x_4\n",
    "\\end{bmatrix}= \\begin{bmatrix}\n",
    "b_{21} - b_{11} \\\\\n",
    "b_{22} - b_{12}\\\\\n",
    "b_{23}-b_{13}\\\\\n",
    "b_{24} - b_{14}\\\\\n",
    "\\end{bmatrix}\n",
    "\\end{align*}"
   ]
  },
  {
   "cell_type": "markdown",
   "id": "c84c4e6a",
   "metadata": {},
   "source": [
    "## Inciso 1"
   ]
  },
  {
   "cell_type": "markdown",
   "id": "eed94884",
   "metadata": {},
   "source": [
    "Reemplazando A1 = A2 obtenemos:\n",
    "\n",
    "\\begin{align*}\n",
    "\\begin{bmatrix}\n",
    "0 & -a_{12} & a_{13} & 0\\\\\n",
    "a_{12} & 0 & a_{14}-a_{11} & -a_{12}\\\\\n",
    "-a_{13} & a_{11}-a_{14} & 0 & a_{13}\\\\\n",
    "0 & a_{12} & -a_{13} & 0\\\\\n",
    "\\end{bmatrix} \\cdot \\begin{bmatrix}\n",
    "x_1\\\\\n",
    "x_3\\\\\n",
    "x_2\\\\\n",
    "x_4\n",
    "\\end{bmatrix}= \\begin{bmatrix}\n",
    "b_{21} - b_{11} \\\\\n",
    "b_{22} - b_{12}\\\\\n",
    "b_{23}-b_{13}\\\\\n",
    "b_{24} - b_{14}\\\\\n",
    "\\end{bmatrix}\n",
    "\\end{align*}\n",
    "\n",
    "Si sacamos su determinante podemos saber que es igual a 0, por lo tanto no tiene solución única.\n",
    "#### Falsa"
   ]
  },
  {
   "cell_type": "markdown",
   "id": "dd7c006f",
   "metadata": {},
   "source": [
    "## Inciso 2"
   ]
  },
  {
   "cell_type": "markdown",
   "id": "d185a31a",
   "metadata": {},
   "source": [
    "Si reemplazamos A1 = 0 obtenemos:\n",
    "\n",
    "\\begin{align*}\n",
    "\\begin{bmatrix}\n",
    "-a_{21} & -a_{22} & 0 & 0\\\\\n",
    "0 & 0 & -a_{21} & -a_{22}\\\\\n",
    "-a_{23} & -a_{24} & 0 & 0\\\\\n",
    "0 &0 & -a_{23} & -a_{24}\\\\\n",
    "\\end{bmatrix} \\cdot \\begin{bmatrix}\n",
    "x_1\\\\\n",
    "x_3\\\\\n",
    "x_2\\\\\n",
    "x_4\n",
    "\\end{bmatrix}= \\begin{bmatrix}\n",
    "b_{21} - b_{11} \\\\\n",
    "b_{22} - b_{12}\\\\\n",
    "b_{23}-b_{13}\\\\\n",
    "b_{24} - b_{14}\\\\\n",
    "\\end{bmatrix}\n",
    "\\end{align*}\n",
    "\n",
    "Si reemplazamos con los valores originales y calculamos su determinante, obtendremos un determinante distinto de cero. Por lo tanto sigue siendo una matriz singular.\n",
    "#### Verdadera"
   ]
  },
  {
   "cell_type": "markdown",
   "id": "b772933a",
   "metadata": {},
   "source": [
    "## Inciso 3"
   ]
  },
  {
   "cell_type": "markdown",
   "id": "848844c2",
   "metadata": {},
   "source": [
    "Al observar la matriz, podemos ver que el primer pivote es distinto de cero, ya que a11=0.5881308011 es distinto de a21=0.0358895856. Por lo tanto sí se puede realizar la factorización LU.\n",
    "\n",
    "\\begin{align*}\n",
    "\\begin{bmatrix}\n",
    "a_{11}-a_{21} & -a_{22} & a_{13} & 0\\\\\n",
    "a_{12} & 0 & a_{14}-a_{21} & -a_{22}\\\\\n",
    "-a_{23} & a_{11}-a_{24} & 0 & a_{13}\\\\\n",
    "0 & a_{12} & -a_{23} & a_{14}-a_{24}\\\\\n",
    "\\end{bmatrix} \\cdot \\begin{bmatrix}\n",
    "x_1\\\\\n",
    "x_3\\\\\n",
    "x_2\\\\\n",
    "x_4\n",
    "\\end{bmatrix}= \\begin{bmatrix}\n",
    "b_{21} - b_{11} \\\\\n",
    "b_{22} - b_{12}\\\\\n",
    "b_{23}-b_{13}\\\\\n",
    "b_{24} - b_{14}\\\\\n",
    "\\end{bmatrix}\n",
    "\\end{align*}\n",
    "\n",
    "#### Verdadera"
   ]
  },
  {
   "cell_type": "markdown",
   "id": "685f8af6",
   "metadata": {},
   "source": [
    "## Inciso 4"
   ]
  },
  {
   "cell_type": "markdown",
   "id": "e3b53b19",
   "metadata": {},
   "source": [
    "Sabemos que \n",
    "\n",
    "c33 = 0\n",
    "\n",
    "c44 = a14 - a24\n",
    "\n",
    "Reemplazando a14=0.8158374773 y a24=0.5185109454\n",
    "\n",
    "Obteniendo c44 = 0.29732"
   ]
  },
  {
   "cell_type": "markdown",
   "id": "70824ab2",
   "metadata": {},
   "source": [
    "Utilizando el código de PALU del profesor, pero modificado."
   ]
  },
  {
   "cell_type": "code",
   "execution_count": 1,
   "id": "b8bb85e0",
   "metadata": {},
   "outputs": [],
   "source": [
    "import numpy as np\n",
    "\n",
    "def solve_triangular(A, b, upper=True):\n",
    "    n = b.shape[0]\n",
    "    x = np.zeros_like(b)\n",
    "    if upper==True:\n",
    "        #perform back-substitution\n",
    "        x[-1] = (1./A[-1,-1]) * b[-1]\n",
    "        for i in range(n-2, -1, -1):\n",
    "            x[i] = (1./A[i,i]) * (b[i] - np.sum(A[i,i+1:] * x[i+1:]))\n",
    "    else:\n",
    "        #perform forward-substitution\n",
    "        x[0] = (1./A[0,0]) * b[0]\n",
    "        for i in range(1,n):\n",
    "            x[i] = (1./A[i,i]) * (b[i] - np.sum(A[i,:i] * x[:i]))\n",
    "    return x\n",
    "\n",
    "#permutation between rows i and j on matrix A\n",
    "def row_perm(A, i, j):\n",
    "    tmp = np.copy(A[i])\n",
    "    A[i] = A[j]\n",
    "    A[j] = tmp\n",
    "\n",
    "def palu_decomp(A, show=False, precision=2):\n",
    "    N,_ = A.shape\n",
    "    P = np.identity(N)\n",
    "    L = np.zeros((N,N))\n",
    "    U = np.copy(A)\n",
    "    if show:\n",
    "        print('Initial matrices')\n",
    "        print('P = '); print(np.array_str(P, precision=precision, suppress_small=True))\n",
    "        print('L = '); print(np.array_str(L, precision=precision, suppress_small=True))\n",
    "        print('U = '); print(np.array_str(U, precision=precision, suppress_small=True))\n",
    "        print('----------------------------------------')\n",
    "    #iterating through columns\n",
    "    for j in range(N-1):\n",
    "        #determine the new pivot\n",
    "        p_index = np.argmax(np.abs(U[j:,j]))\n",
    "        if p_index != 0:\n",
    "            row_perm(P, j, j+p_index)\n",
    "            row_perm(U, j, j+p_index)\n",
    "            row_perm(L, j, j+p_index)\n",
    "            if show:\n",
    "                print('A permutation has been made')\n",
    "                print('P = '); print(np.array_str(P, precision=precision, suppress_small=True))\n",
    "                print('L = '); print(np.array_str(L, precision=precision, suppress_small=True))\n",
    "                print('U = '); print(np.array_str(U, precision=precision, suppress_small=True))\n",
    "                print('----------------------------------------')\n",
    "        #iterating through rows\n",
    "        for i in range(j+1,N):\n",
    "            L[i,j] = U[i,j]/U[j,j]\n",
    "            U[i] -= L[i,j]*U[j]\n",
    "            if show:\n",
    "                print('P = '); print(np.array_str(P, precision=precision, suppress_small=True))\n",
    "                print('L = '); print(np.array_str(L, precision=precision, suppress_small=True))\n",
    "                print('U = '); print(np.array_str(U, precision=precision, suppress_small=True))\n",
    "                print('----------------------------------------')\n",
    "    np.fill_diagonal(L,1)\n",
    "    return P,L,U\n",
    "\n",
    "def solve_palu(A, b, show=False, precision=2):\n",
    "    P,L,U = palu_decomp(A, show, precision=precision)\n",
    "    #A.x = b -> P.A.x = P.b = b'\n",
    "    b = np.dot(P,b)\n",
    "    # L.c = b' with c = U.x\n",
    "    c = solve_triangular(L, b, upper=False)\n",
    "    x = solve_triangular(U, c)\n",
    "    return x\n",
    "\n",
    "\n",
    "def solverInterseccionMatricial(A_1, A_2, B_1, B_2):\n",
    "    a11 = A_1[0][0]\n",
    "    a12 = A_1[1][0]\n",
    "    a13 = A_1[0][1]\n",
    "    a14 = A_1[1][1]\n",
    "    a21 = A_2[0][0]\n",
    "    a22 = A_2[1][0]\n",
    "    a23 = A_2[0][1]\n",
    "    a24 = A_2[1][1]\n",
    "    \n",
    "    b11 = B_1[0][0]\n",
    "    b12 = B_1[1][0]\n",
    "    b13 = B_1[0][1]\n",
    "    b14 = B_1[1][1]\n",
    "    b21 = B_2[0][0]\n",
    "    b22 = B_2[1][0]\n",
    "    b23 = B_2[0][1]\n",
    "    b24 = B_2[1][1]\n",
    "\n",
    "    C = np.array([[a11-a21,-a22,a13,0],[a12,0,a14-a21,-a22],[-a23,a11-a24,0,a13],[0,a12,-a23,a14-a24]])\n",
    "    b = np.array([b21-b11,b22-b12,b23-b13,b24-b14])\n",
    "    X = solve_palu(C, b, show = True)\n",
    "    return X\n"
   ]
  },
  {
   "cell_type": "markdown",
   "id": "b7d7ebac",
   "metadata": {},
   "source": [
    "# Pregunta 2"
   ]
  },
  {
   "cell_type": "markdown",
   "id": "2ac9c98c",
   "metadata": {},
   "source": [
    "## Inciso 1"
   ]
  },
  {
   "cell_type": "markdown",
   "id": "9366810e",
   "metadata": {},
   "source": [
    "Se quiere conocer:\n",
    "\n",
    "$a_{0}+b_{0}i = (a+bi)^3$\n",
    "\n",
    "$(a+bi)^3 - a_{0}-b_{0}i = 0 + 0bi$\n",
    "\n",
    "Desarrollando obtenemos:\n",
    "\n",
    "$a^3-3ab^2 + (3a^2b-b^3)i -a_{0}-b_{0}i= 0 + 0bi$\n",
    "\n",
    "Esto lo podemos dividir en 2 ecuaciones:\n",
    "\n",
    "$a^3-3ab^2-a_{0} = 0$\n",
    "\n",
    "$3a^2b-b^3-b_{0} = 0$\n",
    "\n",
    "Luego utilizando el código del profesor de Newton en dimensiones n:\n"
   ]
  },
  {
   "cell_type": "code",
   "execution_count": 9,
   "id": "f3a70e67",
   "metadata": {},
   "outputs": [
    {
     "name": "stdout",
     "output_type": "stream",
     "text": [
      "95.06250000000003\n",
      "199.36103217674446\n"
     ]
    },
    {
     "name": "stderr",
     "output_type": "stream",
     "text": [
      "<ipython-input-9-e580c992319c>:8: DeprecationWarning: `np.float` is a deprecated alias for the builtin `float`. To silence this warning, use `float` by itself. Doing this will not modify any behavior and is safe. If you specifically wanted the numpy scalar type, use `np.float64` here.\n",
      "Deprecated in NumPy 1.20; for more details and guidance: https://numpy.org/devdocs/release/1.20.0-notes.html#deprecations\n",
      "  J  = lambda x: np.array([[3*x[0]*x[0] - 3*x[1]*x[1], -6*x[0]*x[1]],[6*x[0]*x[1], 3*x[0]*x[0] - 3*x[1]*x[1]]],dtype=np.float)\n",
      "<ipython-input-9-e580c992319c>:7: DeprecationWarning: `np.float` is a deprecated alias for the builtin `float`. To silence this warning, use `float` by itself. Doing this will not modify any behavior and is safe. If you specifically wanted the numpy scalar type, use `np.float64` here.\n",
      "Deprecated in NumPy 1.20; for more details and guidance: https://numpy.org/devdocs/release/1.20.0-notes.html#deprecations\n",
      "  F  = lambda x: np.array([f1(x),f2(x)],dtype=np.float)\n"
     ]
    },
    {
     "data": {
      "text/plain": [
       "(-1.1904131433991043, -1.745994725556823)"
      ]
     },
     "execution_count": 9,
     "metadata": {},
     "output_type": "execute_result"
    }
   ],
   "source": [
    "import numpy as np\n",
    "from numpy import linalg as LA\n",
    "\n",
    "def Show_Newton(a0,b0,n=100, error = 1e-5):\n",
    "    f1 = lambda x: x[0]*x[0]*x[0] - 3*x[0]*x[1]*x[1] - a0\n",
    "    f2 = lambda x: 3*x[0]*x[0]*x[1] - x[1]*x[1]*x[1] - b0\n",
    "    F  = lambda x: np.array([f1(x),f2(x)],dtype=np.float)\n",
    "    J  = lambda x: np.array([[3*x[0]*x[0] - 3*x[1]*x[1], -6*x[0]*x[1]],[6*x[0]*x[1], 3*x[0]*x[0] - 3*x[1]*x[1]]],dtype=np.float)\n",
    "    \n",
    "    x0 = -1\n",
    "    y0 = -1.5\n",
    "    \n",
    "    errorAbs = np.inf\n",
    "    \n",
    "    i = 0\n",
    "    while errorAbs >= error:\n",
    "        NewtonStep = lambda xi: xi-np.linalg.solve(J(xi),F(xi))\n",
    "        \n",
    "        #a = solve_palu(J, F)\n",
    "        #NewtonStep =  a\n",
    "        x_previous = np.array([x0,y0])\n",
    "        x_next=NewtonStep(x_previous)\n",
    "        x1,y1 = x_next\n",
    "\n",
    "        v1 = np.array([x0,y0])\n",
    "        v2 = np.array([x1,y1])\n",
    "\n",
    "        x0=x1\n",
    "        y0=y1\n",
    "        errorAbs = LA.norm(v2-v1)\n",
    "        if (i == 0 or i == 1):\n",
    "            pass\n",
    "            print(LA.det(J(v1)))\n",
    "        i+=1\n",
    "        \n",
    "    return x1,y1\n",
    "\n",
    "def solverCubicComplexRoot(x0,y0):\n",
    "    r,i = Show_Newton(x0,y0, n=100)\n",
    "    return r,i\n",
    "\n",
    "solverCubicComplexRoot(9.2, -2.1)\n",
    "  \n"
   ]
  },
  {
   "cell_type": "markdown",
   "id": "e80a31de",
   "metadata": {},
   "source": [
    "## Referencias"
   ]
  },
  {
   "cell_type": "markdown",
   "id": "995c5713",
   "metadata": {},
   "source": [
    "Código del profesor de PALU y código del profe Newton en dimensiones N"
   ]
  }
 ],
 "metadata": {
  "kernelspec": {
   "display_name": "Python 3",
   "language": "python",
   "name": "python3"
  },
  "language_info": {
   "codemirror_mode": {
    "name": "ipython",
    "version": 3
   },
   "file_extension": ".py",
   "mimetype": "text/x-python",
   "name": "python",
   "nbconvert_exporter": "python",
   "pygments_lexer": "ipython3",
   "version": "3.9.4"
  }
 },
 "nbformat": 4,
 "nbformat_minor": 5
}
