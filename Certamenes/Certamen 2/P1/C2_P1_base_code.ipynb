{
 "cells": [
  {
   "cell_type": "markdown",
   "id": "c095fe86",
   "metadata": {},
   "source": [
    "<center>\n",
    "    <img src=\"http://sct.inf.utfsm.cl/wp-content/uploads/2020/04/logo_di.png\" style=\"width:60%\">\n",
    "    <h1> INF285 - Computación Científica </h1>\n",
    "    <h2> Certamen 2 - P1</h2>\n",
    "    <h2> <a href=\"#acknowledgements\"> [S]cientific [C]omputing [T]eam </a> </h2>\n",
    "    <h2> Version: 1.00</h2>\n",
    "</center>"
   ]
  },
  {
   "cell_type": "markdown",
   "id": "fa965615",
   "metadata": {},
   "source": [
    "# No debe utilizar bibliotecas adicionales."
   ]
  },
  {
   "cell_type": "code",
   "execution_count": 2,
   "id": "06ac2f72",
   "metadata": {},
   "outputs": [],
   "source": [
    "import numpy as np"
   ]
  },
  {
   "cell_type": "markdown",
   "id": "d2c10bd1",
   "metadata": {},
   "source": [
    "# Pregunta 1 - datos"
   ]
  },
  {
   "cell_type": "code",
   "execution_count": 4,
   "id": "73c0ae31",
   "metadata": {},
   "outputs": [
    {
     "name": "stdout",
     "output_type": "stream",
     "text": [
      "shape A2:  (1000, 200)\n",
      "shape A3:  (200, 1000)\n",
      "A2:  [[1.         0.08445892 0.         ... 0.58060583 0.31207517 0.        ]\n",
      " [1.         0.00375477 0.         ... 0.56290897 0.15839009 0.        ]\n",
      " [1.         0.03337801 0.         ... 0.32188778 0.03282842 0.        ]\n",
      " ...\n",
      " [1.         0.03121084 0.         ... 0.13904431 0.04571994 0.        ]\n",
      " [1.         0.09697913 0.         ... 0.60384098 0.10160144 0.        ]\n",
      " [1.         0.03162119 0.         ... 0.38654982 0.29900034 0.        ]]\n",
      "A3:  [[1. 0. 0. ... 0. 0. 0.]\n",
      " [1. 0. 0. ... 0. 0. 0.]\n",
      " [1. 0. 0. ... 0. 0. 0.]\n",
      " ...\n",
      " [1. 0. 0. ... 0. 0. 0.]\n",
      " [1. 0. 0. ... 0. 0. 0.]\n",
      " [1. 0. 0. ... 0. 0. 0.]]\n"
     ]
    }
   ],
   "source": [
    "A0 = np.array([[0.5,0,20],[0,0.2,-4],[0,0,0]])\n",
    "A1 = np.array(\n",
    "    [[0.5, 0, 0.1, 0, -1],\n",
    "    [0, 0.2, -0.4, 1, 0],\n",
    "    [0, 1  , -2 , 0, 0],\n",
    "    [1, 2  , -3.8 , 2, 1],\n",
    "    [-1, 2, -4.2 , 2, -1]])\n",
    "A2 = np.load('./A2.npy')\n",
    "A3 = np.load('./A3.npy')\n",
    "print(\"shape A2: \",A2.shape)\n",
    "print(\"shape A3: \",A3.shape)\n",
    "print(\"A2: \",A2)\n",
    "print(\"A3: \",A3)"
   ]
  },
  {
   "cell_type": "markdown",
   "id": "a7e452ca",
   "metadata": {},
   "source": [
    "# Pregunta 1 - desarrollo"
   ]
  },
  {
   "cell_type": "code",
   "execution_count": 13,
   "id": "6c66089c",
   "metadata": {},
   "outputs": [],
   "source": [
    "'''\n",
    "input:\n",
    "A       : (ndarray) matriz de mxn\n",
    "delta   : (double) umbral para definir dependencia lineal\n",
    "\n",
    "output:\n",
    "li      : (ndarray) vector 'int64' con indices de columnas linealmente independientes\n",
    "'''\n",
    "def find_li_columns_indices(A,delta):\n",
    "    # Your own code. It may be useful to consider the modified Gram-Schmidt algorithm!\n",
    "    li = np.array([]) # You must remove this line when you implement your own code!!!!!!\n",
    "    return li"
   ]
  }
 ],
 "metadata": {
  "kernelspec": {
   "display_name": "Python 3",
   "language": "python",
   "name": "python3"
  },
  "language_info": {
   "codemirror_mode": {
    "name": "ipython",
    "version": 3
   },
   "file_extension": ".py",
   "mimetype": "text/x-python",
   "name": "python",
   "nbconvert_exporter": "python",
   "pygments_lexer": "ipython3",
   "version": "3.9.4"
  }
 },
 "nbformat": 4,
 "nbformat_minor": 5
}
