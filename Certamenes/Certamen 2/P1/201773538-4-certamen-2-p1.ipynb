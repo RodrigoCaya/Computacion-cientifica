{
 "cells": [
  {
   "cell_type": "markdown",
   "id": "c095fe86",
   "metadata": {},
   "source": [
    "<center>\n",
    "    <img src=\"http://sct.inf.utfsm.cl/wp-content/uploads/2020/04/logo_di.png\" style=\"width:60%\">\n",
    "    <h1> INF285 - Computación Científica </h1>\n",
    "    <h2> Certamen 2 - P1</h2>\n",
    "    <h2> <a href=\"#acknowledgements\"> [S]cientific [C]omputing [T]eam </a> </h2>\n",
    "    <h2> Version: 1.00</h2>\n",
    "</center>"
   ]
  },
  {
   "cell_type": "markdown",
   "id": "fa965615",
   "metadata": {},
   "source": [
    "# No debe utilizar bibliotecas adicionales."
   ]
  },
  {
   "cell_type": "code",
   "execution_count": 5,
   "id": "06ac2f72",
   "metadata": {},
   "outputs": [],
   "source": [
    "import numpy as np"
   ]
  },
  {
   "cell_type": "markdown",
   "id": "d2c10bd1",
   "metadata": {},
   "source": [
    "# Pregunta 1 - datos"
   ]
  },
  {
   "cell_type": "code",
   "execution_count": 6,
   "id": "73c0ae31",
   "metadata": {},
   "outputs": [],
   "source": [
    "A0 = np.array([[0.5,0,20],[0,0.2,-4],[0,0,0]])\n",
    "A1 = np.array(\n",
    "    [[0.5, 0, 0.1, 0, -1],\n",
    "    [0, 0.2, -0.4, 1, 0],\n",
    "    [0, 1  , -2 , 0, 0],\n",
    "    [1, 2  , -3.8 , 2, 1],\n",
    "    [-1, 2, -4.2 , 2, -1]])\n",
    "A2 = np.load('./A2.npy')\n",
    "A3 = np.load('./A3.npy')"
   ]
  },
  {
   "cell_type": "markdown",
   "id": "a7e452ca",
   "metadata": {},
   "source": [
    "# Pregunta 1 - desarrollo"
   ]
  },
  {
   "cell_type": "code",
   "execution_count": 32,
   "id": "6c66089c",
   "metadata": {},
   "outputs": [],
   "source": [
    "def QR(A,delta, type_factorization = 'reduced', type_gram_schmidt='classic'):\n",
    "    li = list(range(A.shape[1]))\n",
    "    A.astype('float')\n",
    "    cont = 0\n",
    "    m = A.shape[0]\n",
    "    if type_factorization == 'reduced':\n",
    "        Q = np.zeros(A.shape)\n",
    "        R = np.zeros((A.shape[1],A.shape[1]))\n",
    "    elif type_factorization == 'full':\n",
    "        Q = np.zeros((A.shape[0],A.shape[0]))\n",
    "        R = np.zeros(A.shape)\n",
    "    for j in np.arange(A.shape[1]):\n",
    "        y = A[:,j]\n",
    "        for i in np.arange(j):\n",
    "            if type_gram_schmidt == 'classic':\n",
    "                R[i,j] = np.dot(Q[:,i],A[:,j])\n",
    "            elif type_gram_schmidt == 'modified':\n",
    "                R[i,j] = np.dot(Q[:,i],y)\n",
    "            y=y-R[i,j]*Q[:,i]\n",
    "        R[j,j] = np.linalg.norm(y)\n",
    "        q = np.linalg.norm(R[j,j])\n",
    "        if (np.isclose(q,0,atol=delta)): #cerca del error\n",
    "            Q[:,j] = np.zeros(A.shape[0])\n",
    "            li.remove(j) #elimina las columnas LD\n",
    "        else:\n",
    "            Q[:,j] = y/q\n",
    "            cont += 1\n",
    "            if(cont == m): #termina si encuentra m columnas LI\n",
    "                li = li[:m]\n",
    "                break\n",
    "    return np.array(np.int64(li))\n",
    "\n",
    "'''\n",
    "input:\n",
    "A       : (ndarray) matriz de mxn\n",
    "delta   : (double) umbral para definir dependencia lineal\n",
    "\n",
    "output:\n",
    "li      : (ndarray) vector 'int64' con indices de columnas linealmente independientes\n",
    "'''\n",
    "def find_li_columns_indices(A,delta):\n",
    "    # Your own code. It may be useful to consider the modified Gram-Schmidt algorithm!\n",
    "    li = QR(A, delta, type_gram_schmidt='modified')\n",
    "    return li\n"
   ]
  }
 ],
 "metadata": {
  "kernelspec": {
   "display_name": "Python 3",
   "language": "python",
   "name": "python3"
  },
  "language_info": {
   "codemirror_mode": {
    "name": "ipython",
    "version": 3
   },
   "file_extension": ".py",
   "mimetype": "text/x-python",
   "name": "python",
   "nbconvert_exporter": "python",
   "pygments_lexer": "ipython3",
   "version": "3.9.4"
  }
 },
 "nbformat": 4,
 "nbformat_minor": 5
}
