{
 "cells": [
  {
   "cell_type": "markdown",
   "id": "c095fe86",
   "metadata": {},
   "source": [
    "<center>\n",
    "    <img src=\"http://sct.inf.utfsm.cl/wp-content/uploads/2020/04/logo_di.png\" style=\"width:60%\">\n",
    "    <h1> INF285 - Computación Científica </h1>\n",
    "    <h2> Certamen 2 - P2</h2>\n",
    "    <h2> <a href=\"#acknowledgements\"> [S]cientific [C]omputing [T]eam </a> </h2>\n",
    "    <h2> Version: 1.00</h2>\n",
    "</center>"
   ]
  },
  {
   "cell_type": "markdown",
   "id": "fa965615",
   "metadata": {},
   "source": [
    "# No debe utilizar bibliotecas adicionales."
   ]
  },
  {
   "cell_type": "code",
   "execution_count": 1,
   "id": "06ac2f72",
   "metadata": {},
   "outputs": [],
   "source": [
    "import numpy as np\n",
    "# It may be useful to use the following implementation for polynomial interpolation!\n",
    "from scipy.interpolate import BarycentricInterpolator"
   ]
  },
  {
   "cell_type": "markdown",
   "id": "a7e452ca",
   "metadata": {},
   "source": [
    "# Pregunta 2 - desarrollo"
   ]
  },
  {
   "cell_type": "code",
   "execution_count": 2,
   "id": "6c66089c",
   "metadata": {},
   "outputs": [],
   "source": [
    "def Chebyshev_points(xmin,xmax,n): #sacado del notebook del profe\n",
    "    ns = np.arange(1,n+1)\n",
    "    x = np.cos((2*ns-1)*np.pi/(2*n))\n",
    "    return (xmin+xmax)/2 + (xmax-xmin)*x/2\n",
    "\n",
    "'''\n",
    "input:\n",
    "n     : (int) numero de puntos a utilizar en la interpolación\n",
    "\n",
    "output:\n",
    "pLog  : (callable) implementación de polinomio interpolador\n",
    "'''\n",
    "def interpolateLog(n):\n",
    "    # Your code\n",
    "    a = np.exp(-1)\n",
    "    b = np.exp(1)\n",
    "    yi = []\n",
    "    xi = Chebyshev_points(a,b,n)\n",
    "    for i in range(len(xi)):\n",
    "        yi.append(np.log(xi[i]))\n",
    "    pLog = BarycentricInterpolator(xi, yi)\n",
    "    return pLog\n",
    "\n",
    "'''\n",
    "input:\n",
    "n               : (int) numero de puntos a utilizar en la interpolación\n",
    "\n",
    "output:\n",
    "discrete_error  : (float) error discreto de interpolación 'ErrorD'\n",
    "'''\n",
    "def ErrorD(n):\n",
    "    # Yout code\n",
    "    N = 100000\n",
    "    xi = np.linspace(-1, 1, num=N)\n",
    "    pLog=interpolateLog(n)\n",
    "    discrete_error = max(abs(pLog(np.exp(xi))-xi))\n",
    "    #discrete_error = max(abs(np.exp(pLog(xi))-xi))\n",
    "    return discrete_error\n",
    "\n",
    "'''\n",
    "input:\n",
    "threshold   : (float) umbral de máximo error permitido\n",
    "\n",
    "output:\n",
    "n           : (int) numero de puntos a utilizar en la interpolación\n",
    "'''\n",
    "def find_n_log(threshold):\n",
    "    # Your code\n",
    "    n = -1 #por si no encuentra\n",
    "    for i in range(2,101):\n",
    "        error = ErrorD(i)\n",
    "        if(error < threshold):\n",
    "            n = i\n",
    "            break\n",
    "    return n\n"
   ]
  }
 ],
 "metadata": {
  "kernelspec": {
   "display_name": "Python 3",
   "language": "python",
   "name": "python3"
  },
  "language_info": {
   "codemirror_mode": {
    "name": "ipython",
    "version": 3
   },
   "file_extension": ".py",
   "mimetype": "text/x-python",
   "name": "python",
   "nbconvert_exporter": "python",
   "pygments_lexer": "ipython3",
   "version": "3.9.4"
  }
 },
 "nbformat": 4,
 "nbformat_minor": 5
}
